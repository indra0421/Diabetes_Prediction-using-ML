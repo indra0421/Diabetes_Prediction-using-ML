{
 "cells": [
  {
   "cell_type": "code",
   "execution_count": 1,
   "id": "825ab78e-b114-4790-b20e-c851309b6da4",
   "metadata": {},
   "outputs": [],
   "source": [
    "# SVM model will be used here for model selection and prediction"
   ]
  },
  {
   "cell_type": "code",
   "execution_count": 2,
   "id": "a3ee7d4c-940c-4f27-8f0b-7d433d9a3908",
   "metadata": {},
   "outputs": [],
   "source": [
    "#importing libraries\n",
    "import numpy as np\n",
    "import pandas as pd\n",
    "import sklearn\n",
    "from sklearn.model_selection import train_test_split\n",
    "from sklearn import svm\n",
    "from sklearn.metrics import accuracy_score\n",
    "from sklearn.preprocessing import StandardScaler"
   ]
  },
  {
   "cell_type": "code",
   "execution_count": 3,
   "id": "80568172-1bac-4eb9-a952-a2cf0d67e67a",
   "metadata": {},
   "outputs": [],
   "source": [
    "# data collection"
   ]
  },
  {
   "cell_type": "code",
   "execution_count": 4,
   "id": "9e1eb54c-dd46-4da0-b42e-363a4a161b82",
   "metadata": {},
   "outputs": [],
   "source": [
    "diabetes_data = pd.read_csv('diabetes.csv')"
   ]
  },
  {
   "cell_type": "code",
   "execution_count": 5,
   "id": "5b50faed-5c91-4a39-b02f-b8abc09a67de",
   "metadata": {},
   "outputs": [
    {
     "data": {
      "text/html": [
       "<div>\n",
       "<style scoped>\n",
       "    .dataframe tbody tr th:only-of-type {\n",
       "        vertical-align: middle;\n",
       "    }\n",
       "\n",
       "    .dataframe tbody tr th {\n",
       "        vertical-align: top;\n",
       "    }\n",
       "\n",
       "    .dataframe thead th {\n",
       "        text-align: right;\n",
       "    }\n",
       "</style>\n",
       "<table border=\"1\" class=\"dataframe\">\n",
       "  <thead>\n",
       "    <tr style=\"text-align: right;\">\n",
       "      <th></th>\n",
       "      <th>Pregnancies</th>\n",
       "      <th>Glucose</th>\n",
       "      <th>BloodPressure</th>\n",
       "      <th>SkinThickness</th>\n",
       "      <th>Insulin</th>\n",
       "      <th>BMI</th>\n",
       "      <th>DiabetesPedigreeFunction</th>\n",
       "      <th>Age</th>\n",
       "      <th>Outcome</th>\n",
       "    </tr>\n",
       "  </thead>\n",
       "  <tbody>\n",
       "    <tr>\n",
       "      <th>0</th>\n",
       "      <td>6</td>\n",
       "      <td>148</td>\n",
       "      <td>72</td>\n",
       "      <td>35</td>\n",
       "      <td>0</td>\n",
       "      <td>33.6</td>\n",
       "      <td>0.627</td>\n",
       "      <td>50</td>\n",
       "      <td>1</td>\n",
       "    </tr>\n",
       "    <tr>\n",
       "      <th>1</th>\n",
       "      <td>1</td>\n",
       "      <td>85</td>\n",
       "      <td>66</td>\n",
       "      <td>29</td>\n",
       "      <td>0</td>\n",
       "      <td>26.6</td>\n",
       "      <td>0.351</td>\n",
       "      <td>31</td>\n",
       "      <td>0</td>\n",
       "    </tr>\n",
       "    <tr>\n",
       "      <th>2</th>\n",
       "      <td>8</td>\n",
       "      <td>183</td>\n",
       "      <td>64</td>\n",
       "      <td>0</td>\n",
       "      <td>0</td>\n",
       "      <td>23.3</td>\n",
       "      <td>0.672</td>\n",
       "      <td>32</td>\n",
       "      <td>1</td>\n",
       "    </tr>\n",
       "    <tr>\n",
       "      <th>3</th>\n",
       "      <td>1</td>\n",
       "      <td>89</td>\n",
       "      <td>66</td>\n",
       "      <td>23</td>\n",
       "      <td>94</td>\n",
       "      <td>28.1</td>\n",
       "      <td>0.167</td>\n",
       "      <td>21</td>\n",
       "      <td>0</td>\n",
       "    </tr>\n",
       "    <tr>\n",
       "      <th>4</th>\n",
       "      <td>0</td>\n",
       "      <td>137</td>\n",
       "      <td>40</td>\n",
       "      <td>35</td>\n",
       "      <td>168</td>\n",
       "      <td>43.1</td>\n",
       "      <td>2.288</td>\n",
       "      <td>33</td>\n",
       "      <td>1</td>\n",
       "    </tr>\n",
       "  </tbody>\n",
       "</table>\n",
       "</div>"
      ],
      "text/plain": [
       "   Pregnancies  Glucose  BloodPressure  SkinThickness  Insulin   BMI  \\\n",
       "0            6      148             72             35        0  33.6   \n",
       "1            1       85             66             29        0  26.6   \n",
       "2            8      183             64              0        0  23.3   \n",
       "3            1       89             66             23       94  28.1   \n",
       "4            0      137             40             35      168  43.1   \n",
       "\n",
       "   DiabetesPedigreeFunction  Age  Outcome  \n",
       "0                     0.627   50        1  \n",
       "1                     0.351   31        0  \n",
       "2                     0.672   32        1  \n",
       "3                     0.167   21        0  \n",
       "4                     2.288   33        1  "
      ]
     },
     "execution_count": 5,
     "metadata": {},
     "output_type": "execute_result"
    }
   ],
   "source": [
    "diabetes_data.head()"
   ]
  },
  {
   "cell_type": "code",
   "execution_count": 18,
   "id": "4ab9002c-be34-4685-a124-40f802dd87c2",
   "metadata": {},
   "outputs": [
    {
     "data": {
      "text/plain": [
       "Pregnancies                  0.000\n",
       "Glucose                      0.000\n",
       "BloodPressure                0.000\n",
       "SkinThickness                0.000\n",
       "Insulin                      0.000\n",
       "BMI                          0.000\n",
       "DiabetesPedigreeFunction     0.078\n",
       "Age                         21.000\n",
       "Outcome                      0.000\n",
       "dtype: float64"
      ]
     },
     "execution_count": 18,
     "metadata": {},
     "output_type": "execute_result"
    }
   ],
   "source": [
    "diabetes_data.min(axis = 'rows')"
   ]
  },
  {
   "cell_type": "code",
   "execution_count": 19,
   "id": "106fa9ce-7476-4960-b198-abbb93e0ef18",
   "metadata": {},
   "outputs": [
    {
     "data": {
      "text/plain": [
       "Pregnancies                  17.00\n",
       "Glucose                     199.00\n",
       "BloodPressure               122.00\n",
       "SkinThickness                99.00\n",
       "Insulin                     846.00\n",
       "BMI                          67.10\n",
       "DiabetesPedigreeFunction      2.42\n",
       "Age                          81.00\n",
       "Outcome                       1.00\n",
       "dtype: float64"
      ]
     },
     "execution_count": 19,
     "metadata": {},
     "output_type": "execute_result"
    }
   ],
   "source": [
    "diabetes_data.max(axis = 'rows')"
   ]
  },
  {
   "cell_type": "code",
   "execution_count": 6,
   "id": "ee496b3e-98e9-4e49-bb66-7f2c9b2776c9",
   "metadata": {},
   "outputs": [
    {
     "data": {
      "text/plain": [
       "Outcome\n",
       "0    500\n",
       "1    268\n",
       "Name: count, dtype: int64"
      ]
     },
     "execution_count": 6,
     "metadata": {},
     "output_type": "execute_result"
    }
   ],
   "source": [
    "diabetes_data['Outcome'].value_counts()"
   ]
  },
  {
   "cell_type": "code",
   "execution_count": 7,
   "id": "daaa62f8-c19d-46cb-a753-e59cff4aab93",
   "metadata": {},
   "outputs": [
    {
     "data": {
      "text/html": [
       "<div>\n",
       "<style scoped>\n",
       "    .dataframe tbody tr th:only-of-type {\n",
       "        vertical-align: middle;\n",
       "    }\n",
       "\n",
       "    .dataframe tbody tr th {\n",
       "        vertical-align: top;\n",
       "    }\n",
       "\n",
       "    .dataframe thead th {\n",
       "        text-align: right;\n",
       "    }\n",
       "</style>\n",
       "<table border=\"1\" class=\"dataframe\">\n",
       "  <thead>\n",
       "    <tr style=\"text-align: right;\">\n",
       "      <th></th>\n",
       "      <th>Pregnancies</th>\n",
       "      <th>Glucose</th>\n",
       "      <th>BloodPressure</th>\n",
       "      <th>SkinThickness</th>\n",
       "      <th>Insulin</th>\n",
       "      <th>BMI</th>\n",
       "      <th>DiabetesPedigreeFunction</th>\n",
       "      <th>Age</th>\n",
       "    </tr>\n",
       "    <tr>\n",
       "      <th>Outcome</th>\n",
       "      <th></th>\n",
       "      <th></th>\n",
       "      <th></th>\n",
       "      <th></th>\n",
       "      <th></th>\n",
       "      <th></th>\n",
       "      <th></th>\n",
       "      <th></th>\n",
       "    </tr>\n",
       "  </thead>\n",
       "  <tbody>\n",
       "    <tr>\n",
       "      <th>0</th>\n",
       "      <td>3.298000</td>\n",
       "      <td>109.980000</td>\n",
       "      <td>68.184000</td>\n",
       "      <td>19.664000</td>\n",
       "      <td>68.792000</td>\n",
       "      <td>30.304200</td>\n",
       "      <td>0.429734</td>\n",
       "      <td>31.190000</td>\n",
       "    </tr>\n",
       "    <tr>\n",
       "      <th>1</th>\n",
       "      <td>4.865672</td>\n",
       "      <td>141.257463</td>\n",
       "      <td>70.824627</td>\n",
       "      <td>22.164179</td>\n",
       "      <td>100.335821</td>\n",
       "      <td>35.142537</td>\n",
       "      <td>0.550500</td>\n",
       "      <td>37.067164</td>\n",
       "    </tr>\n",
       "  </tbody>\n",
       "</table>\n",
       "</div>"
      ],
      "text/plain": [
       "         Pregnancies     Glucose  BloodPressure  SkinThickness     Insulin  \\\n",
       "Outcome                                                                      \n",
       "0           3.298000  109.980000      68.184000      19.664000   68.792000   \n",
       "1           4.865672  141.257463      70.824627      22.164179  100.335821   \n",
       "\n",
       "               BMI  DiabetesPedigreeFunction        Age  \n",
       "Outcome                                                  \n",
       "0        30.304200                  0.429734  31.190000  \n",
       "1        35.142537                  0.550500  37.067164  "
      ]
     },
     "execution_count": 7,
     "metadata": {},
     "output_type": "execute_result"
    }
   ],
   "source": [
    "diabetes_data.groupby('Outcome').mean()"
   ]
  },
  {
   "cell_type": "code",
   "execution_count": 8,
   "id": "e9ee4ea0-a3ca-40df-8991-c749ca902929",
   "metadata": {},
   "outputs": [],
   "source": [
    "# Separating the data and label or features and target\n",
    "X = diabetes_data.drop(columns = 'Outcome' , axis = 1)\n",
    "Y = diabetes_data['Outcome']"
   ]
  },
  {
   "cell_type": "code",
   "execution_count": 9,
   "id": "1bdff05a-2a5a-4728-b87d-b359887b56a2",
   "metadata": {},
   "outputs": [
    {
     "name": "stdout",
     "output_type": "stream",
     "text": [
      "     Pregnancies  Glucose  BloodPressure  SkinThickness  Insulin   BMI  \\\n",
      "0              6      148             72             35        0  33.6   \n",
      "1              1       85             66             29        0  26.6   \n",
      "2              8      183             64              0        0  23.3   \n",
      "3              1       89             66             23       94  28.1   \n",
      "4              0      137             40             35      168  43.1   \n",
      "..           ...      ...            ...            ...      ...   ...   \n",
      "763           10      101             76             48      180  32.9   \n",
      "764            2      122             70             27        0  36.8   \n",
      "765            5      121             72             23      112  26.2   \n",
      "766            1      126             60              0        0  30.1   \n",
      "767            1       93             70             31        0  30.4   \n",
      "\n",
      "     DiabetesPedigreeFunction  Age  \n",
      "0                       0.627   50  \n",
      "1                       0.351   31  \n",
      "2                       0.672   32  \n",
      "3                       0.167   21  \n",
      "4                       2.288   33  \n",
      "..                        ...  ...  \n",
      "763                     0.171   63  \n",
      "764                     0.340   27  \n",
      "765                     0.245   30  \n",
      "766                     0.349   47  \n",
      "767                     0.315   23  \n",
      "\n",
      "[768 rows x 8 columns]\n"
     ]
    }
   ],
   "source": [
    "print(X)"
   ]
  },
  {
   "cell_type": "code",
   "execution_count": 10,
   "id": "9dce36da-9b16-48d9-b8ab-5df43c8e34af",
   "metadata": {},
   "outputs": [
    {
     "name": "stdout",
     "output_type": "stream",
     "text": [
      "0      1\n",
      "1      0\n",
      "2      1\n",
      "3      0\n",
      "4      1\n",
      "      ..\n",
      "763    0\n",
      "764    0\n",
      "765    0\n",
      "766    1\n",
      "767    0\n",
      "Name: Outcome, Length: 768, dtype: int64\n"
     ]
    }
   ],
   "source": [
    "print(Y)"
   ]
  },
  {
   "cell_type": "code",
   "execution_count": 11,
   "id": "ce4fe710-bf11-4330-812b-949640024567",
   "metadata": {},
   "outputs": [],
   "source": [
    "# data ranges are different --> data standarization need --> to bring in common range"
   ]
  },
  {
   "cell_type": "code",
   "execution_count": 12,
   "id": "45e68261-3556-4750-a3b7-60c83dfb2d07",
   "metadata": {},
   "outputs": [],
   "source": [
    "scaler = StandardScaler()\n",
    "# scaler.fit(X)\n",
    "# standardized_data = scaler.fit_transform(X)"
   ]
  },
  {
   "cell_type": "code",
   "execution_count": 13,
   "id": "fb593ee8-20f9-4074-a157-21bedaea40f8",
   "metadata": {},
   "outputs": [
    {
     "ename": "NameError",
     "evalue": "name 'standardized_data' is not defined",
     "output_type": "error",
     "traceback": [
      "\u001b[1;31m---------------------------------------------------------------------------\u001b[0m",
      "\u001b[1;31mNameError\u001b[0m                                 Traceback (most recent call last)",
      "Cell \u001b[1;32mIn[13], line 1\u001b[0m\n\u001b[1;32m----> 1\u001b[0m \u001b[38;5;28mprint\u001b[39m(\u001b[43mstandardized_data\u001b[49m)\n",
      "\u001b[1;31mNameError\u001b[0m: name 'standardized_data' is not defined"
     ]
    }
   ],
   "source": [
    "print(standardized_data)"
   ]
  },
  {
   "cell_type": "code",
   "execution_count": null,
   "id": "c3cbed1e-2c6e-4b68-9a7c-876d1db8ed9d",
   "metadata": {},
   "outputs": [],
   "source": [
    "# X = standardized_data\n",
    "X = diabetes_data.drop(columns = 'Outcome' , axis = 1)\n",
    "Y = diabetes_data['Outcome']"
   ]
  },
  {
   "cell_type": "code",
   "execution_count": null,
   "id": "1ee3eb12-1dc7-442e-863d-df1d193c3b88",
   "metadata": {},
   "outputs": [],
   "source": [
    "# now train test split is needed to feed in our model"
   ]
  },
  {
   "cell_type": "code",
   "execution_count": null,
   "id": "e2389ebc-d9ab-4f31-adb4-941d7ca5891e",
   "metadata": {},
   "outputs": [],
   "source": [
    "Y.shape"
   ]
  },
  {
   "cell_type": "code",
   "execution_count": null,
   "id": "01122992-75f5-4ed5-9b00-ce2c69103ad5",
   "metadata": {},
   "outputs": [],
   "source": [
    "X_train,X_test,Y_train,Y_test = train_test_split(X, Y , test_size = 0.2 , stratify = Y ,random_state = 2)"
   ]
  },
  {
   "cell_type": "code",
   "execution_count": null,
   "id": "7641f0ee-17f1-4130-b295-f8df9b073f3e",
   "metadata": {},
   "outputs": [],
   "source": [
    "Y_train.shape"
   ]
  },
  {
   "cell_type": "code",
   "execution_count": null,
   "id": "a68b6bcd-183d-4f0b-aafd-8701fdc9b94e",
   "metadata": {},
   "outputs": [],
   "source": [
    "# training our m"
   ]
  },
  {
   "cell_type": "code",
   "execution_count": null,
   "id": "436966a2-928d-418b-a487-d45050b0e67c",
   "metadata": {},
   "outputs": [],
   "source": [
    "classifier = svm.SVC(kernel = 'linear')"
   ]
  },
  {
   "cell_type": "code",
   "execution_count": null,
   "id": "126ea5d7-8c0e-4fa4-9992-8986c7a1bca6",
   "metadata": {},
   "outputs": [],
   "source": [
    "# now fitting our own data to the model"
   ]
  },
  {
   "cell_type": "code",
   "execution_count": null,
   "id": "61d2ee5e-af59-4ee2-9ff7-0719cd9714fb",
   "metadata": {
    "scrolled": true
   },
   "outputs": [],
   "source": [
    "classifier.fit(X_train,Y_train)"
   ]
  },
  {
   "cell_type": "code",
   "execution_count": null,
   "id": "c4dacbc8-9f2a-4915-8ab0-45c919a0e914",
   "metadata": {},
   "outputs": [],
   "source": [
    "# now mdoel accuracy will be checked"
   ]
  },
  {
   "cell_type": "code",
   "execution_count": null,
   "id": "4a3fcc22-6470-4bde-96b4-a48543efe855",
   "metadata": {},
   "outputs": [],
   "source": [
    "# accuracy score on training data\n",
    "train_pred = classifier.predict(X_train)\n",
    "train_accuracy = accuracy_score(train_pred , Y_train)\n",
    "print(train_accuracy)"
   ]
  },
  {
   "cell_type": "code",
   "execution_count": null,
   "id": "71fe419a-5f54-4886-a520-8dba0c3a5b48",
   "metadata": {},
   "outputs": [],
   "source": [
    "# accuracy score on testing data\n",
    "test_pred = classifier.predict(X_test)\n",
    "test_accuracy = accuracy_score(test_pred , Y_test)\n",
    "print(test_accuracy)"
   ]
  },
  {
   "cell_type": "code",
   "execution_count": null,
   "id": "61277de5-2e94-4966-8a2d-327da2972b51",
   "metadata": {},
   "outputs": [],
   "source": [
    "# now making our own systems to check the model ------------------------------------------------------>"
   ]
  },
  {
   "cell_type": "code",
   "execution_count": null,
   "id": "d652f7e1-e033-4725-bf7f-6ac2d06a3e1c",
   "metadata": {},
   "outputs": [],
   "source": [
    "# we have to reshape the data --> as model expects whole data as input --> but we are providing only single instance"
   ]
  },
  {
   "cell_type": "code",
   "execution_count": null,
   "id": "d92bfbfc-1564-4c30-9547-e8b0091960bd",
   "metadata": {},
   "outputs": [],
   "source": [
    "# as we have standardized data provided in our model -- > so we have to change it for input also\n",
    "# std_data = scaler.transform(reshaped_data)"
   ]
  },
  {
   "cell_type": "code",
   "execution_count": null,
   "id": "5227f75f-4362-47aa-a54e-e5b75061f1a3",
   "metadata": {},
   "outputs": [],
   "source": [
    "\n",
    "# lets create a func for our predict_system"
   ]
  },
  {
   "cell_type": "code",
   "execution_count": null,
   "id": "91788b69-7c01-4002-8902-fef0d981e9db",
   "metadata": {},
   "outputs": [],
   "source": [
    "def diabetes_prediction(arr):\n",
    "    inp_data_as_nparray = np.asarray(arr)\n",
    "    reshaped_data = inp_data_as_nparray.reshape(1,-1)\n",
    "    # scaler.fit(reshaped_data)\n",
    "    # std_data = scaler.fit_transform(reshaped_data)\n",
    "    predict = classifier.predict(reshaped_data)\n",
    "    return predict\n",
    "        "
   ]
  },
  {
   "cell_type": "code",
   "execution_count": null,
   "id": "293f7f02-0894-4908-b108-e864f73f70e1",
   "metadata": {},
   "outputs": [],
   "source": [
    "input_data = (9,171,110,24,240,45.4,0.721,54)\n",
    "diabetes_prediction(input_data)"
   ]
  },
  {
   "cell_type": "code",
   "execution_count": null,
   "id": "275e2d28-6cca-425b-ad2b-49311731702e",
   "metadata": {},
   "outputs": [],
   "source": [
    "# NOW WE WILL SAVE OUR MDOEL AND WILL USE IT FOR OTHER IMPLEMENTATION"
   ]
  },
  {
   "cell_type": "code",
   "execution_count": null,
   "id": "1699b5fe-22d3-4e93-bf31-6f78672b9124",
   "metadata": {},
   "outputs": [],
   "source": [
    "# pickle library"
   ]
  },
  {
   "cell_type": "code",
   "execution_count": null,
   "id": "78c63ebb-4a95-4d15-a556-7d2e1fd54382",
   "metadata": {},
   "outputs": [],
   "source": [
    "import pickle"
   ]
  },
  {
   "cell_type": "code",
   "execution_count": null,
   "id": "dab7ce59-473f-4761-acca-5259ad11c162",
   "metadata": {},
   "outputs": [],
   "source": [
    "file_name = 'trained_model.sav'"
   ]
  },
  {
   "cell_type": "code",
   "execution_count": null,
   "id": "c9d7f56b-b6fe-4e7c-b758-1007d78ba2b0",
   "metadata": {},
   "outputs": [],
   "source": [
    "pickle.dump(classifier,open(file_name , 'wb'))"
   ]
  },
  {
   "cell_type": "code",
   "execution_count": null,
   "id": "3b566e90-8d1d-45c7-81c2-bfa4bad57587",
   "metadata": {},
   "outputs": [],
   "source": [
    "# loading the model"
   ]
  },
  {
   "cell_type": "code",
   "execution_count": null,
   "id": "f5e03893-d3d4-4168-aea8-6d8ea9d3f342",
   "metadata": {},
   "outputs": [],
   "source": [
    "loaded_model = pickle.load(open('trained_model.sav','rb'))"
   ]
  },
  {
   "cell_type": "code",
   "execution_count": null,
   "id": "1b37053f-8734-4407-b396-23476fa6db37",
   "metadata": {},
   "outputs": [],
   "source": []
  }
 ],
 "metadata": {
  "kernelspec": {
   "display_name": "Python 3 (ipykernel)",
   "language": "python",
   "name": "python3"
  },
  "language_info": {
   "codemirror_mode": {
    "name": "ipython",
    "version": 3
   },
   "file_extension": ".py",
   "mimetype": "text/x-python",
   "name": "python",
   "nbconvert_exporter": "python",
   "pygments_lexer": "ipython3",
   "version": "3.11.5"
  }
 },
 "nbformat": 4,
 "nbformat_minor": 5
}
